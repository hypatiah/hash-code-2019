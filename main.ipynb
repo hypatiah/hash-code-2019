{
 "cells": [
  {
   "cell_type": "markdown",
   "metadata": {},
   "source": [
    "Hash Code 2019\n",
    "Python Week Wednesday\n",
    "\n",
    "Group 3:\n",
    "Emmanuel ADENIYI \n",
    "Danielle HASSID\n",
    "Chiranthan SHIVA KUMAR\n",
    "Behan Remoshan BENET RUBAN"
   ]
  },
  {
   "cell_type": "markdown",
   "metadata": {},
   "source": [
    "Read the input files"
   ]
  },
  {
   "cell_type": "code",
   "execution_count": 102,
   "metadata": {
    "scrolled": true
   },
   "outputs": [],
   "source": [
    "files = [\"a_example.txt\", \"b_lovely_landscapes.txt\",\n",
    "         \"c_memorable_moments.txt\", \"d_pet_pictures.txt\",\n",
    "         \"e_shiny_selfies.txt\"]\n",
    "\n",
    "\n",
    "f = open(files[0], \"r\")\n",
    "fl = f.readlines()\n",
    "\n"
   ]
  },
  {
   "cell_type": "markdown",
   "metadata": {},
   "source": [
    "Create slides from the data"
   ]
  },
  {
   "cell_type": "code",
   "execution_count": 103,
   "metadata": {},
   "outputs": [
    {
     "name": "stdout",
     "output_type": "stream",
     "text": [
      "[{'ids': [0], 'type': 'H', 'tagCount': 3, 'tags': ['cat', 'beach', 'sun']}, {'ids': [1], 'type': 'V', 'tagCount': 2, 'tags': ['selfie', 'smile']}, {'ids': [2], 'type': 'V', 'tagCount': 2, 'tags': ['garden', 'selfie']}, {'ids': [3], 'type': 'H', 'tagCount': 2, 'tags': ['garden', 'cat']}]\n"
     ]
    }
   ],
   "source": [
    "# Create Photos from the data\n",
    "# Photo format\n",
    "# { type: \"H/V\", tagCount: 21, tags: [\"asdf\", \"sddsf\", \"sdfs\"] }\n",
    "photoCount = int(fl.pop(0))\n",
    "photos = []\n",
    "for index, x in enumerate(fl):\n",
    "    info = x.split()\n",
    "    type = info.pop(0)\n",
    "    tagCount = int(info.pop(0))\n",
    "    tags = []\n",
    "    for i in info:\n",
    "        tags.append(i)\n",
    "    photo = { 'ids': [index], 'type': type, 'tagCount': tagCount, 'tags': tags}\n",
    "    photos.append(photo)\n",
    "\n",
    "print(photos)\n"
   ]
  },
  {
   "cell_type": "markdown",
   "metadata": {},
   "source": [
    "Create a slideshow from the slides"
   ]
  },
  {
   "cell_type": "code",
   "execution_count": 104,
   "metadata": {
    "scrolled": true
   },
   "outputs": [
    {
     "name": "stdout",
     "output_type": "stream",
     "text": [
      "[{'ids': [0], 'type': 'H', 'tagCount': 3, 'tags': ['cat', 'beach', 'sun']}, {'ids': [1, 2], 'type': 'V', 'tagCount': 3, 'tags': ['selfie', 'smile', 'garden']}, {'ids': [3], 'type': 'H', 'tagCount': 2, 'tags': ['garden', 'cat']}]\n"
     ]
    }
   ],
   "source": [
    "# A Slideshow is an array of Slides\n",
    "# slideshow = [slide, slide, slide...]\n",
    "\n",
    "# First we convert photos to Slides\n",
    "# slide format = { type: \"H/V\" tagCount: 21, tags: [\"asdf\", \"sddsf\", \"sdfs\"] }\n",
    "# Horizontal photos become slides unchanged\n",
    "# 2 vertical photos merge tags to become 1 vertical slide \n",
    "\n",
    "def photosToSlideshow(photos):\n",
    "    slideshow = []\n",
    "    vertMerg = []\n",
    "    for photo in photos:\n",
    "        # horizontal slide = horizontal photo unchanged \n",
    "        if photo[\"type\"] == \"H\":\n",
    "            slideshow.append(photo)\n",
    "        # vertical slide = 2 vertical photos with tags merged\n",
    "        elif photo[\"type\"] == \"V\":\n",
    "            vertMerg.append(photo)\n",
    "            # if there are 2 vertical photos in vertMerge - merge tags\n",
    "            # and create slide\n",
    "            if len(vertMerg) == 2:\n",
    "                # start with adding all tags from 1st vertical photo\n",
    "                allTags = vertMerg[0][\"tags\"]\n",
    "                # add tags from 2nd vert photo if not already in 1st\n",
    "                for tag in vertMerg[1][\"tags\"]:\n",
    "                    if tag not in allTags:\n",
    "                        allTags.append(tag)\n",
    "                ids = [vertMerg[0][\"ids\"][0], vertMerg[1][\"ids\"][0]]\n",
    "                slide = { \"ids\": ids, \"type\": \"V\", \"tagCount\": len(allTags), \"tags\": allTags }\n",
    "                slideshow.append(slide)\n",
    "                vertMerg = [photo]\n",
    "    return slideshow\n",
    "\n",
    "slideshow = photosToSlideshow(photos)\n",
    "print(slideshow)\n"
   ]
  },
  {
   "cell_type": "markdown",
   "metadata": {},
   "source": [
    "Scoring Function"
   ]
  },
  {
   "cell_type": "code",
   "execution_count": null,
   "metadata": {},
   "outputs": [],
   "source": []
  },
  {
   "cell_type": "code",
   "execution_count": 105,
   "metadata": {
    "scrolled": false
   },
   "outputs": [
    {
     "name": "stdout",
     "output_type": "stream",
     "text": [
      "[{'ids': [0], 'type': 'H', 'tagCount': 3, 'tags': ['cat', 'beach', 'sun']}, {'ids': [1, 2], 'type': 'V', 'tagCount': 3, 'tags': ['selfie', 'smile', 'garden']}, {'ids': [3], 'type': 'H', 'tagCount': 2, 'tags': ['garden', 'cat']}]\n",
      "0\n",
      "1\n",
      "1\n"
     ]
    }
   ],
   "source": [
    "# input= [{ type: \"H/V\" tagCount: 21, tags: [\"asdf\", \"sddsf\", \"sdfs\"] }, more slides...]\n",
    "\n",
    "def scoring(slideshow):\n",
    "    score = 0\n",
    "    for index, slide in enumerate(slideshow):\n",
    "        # don't check for transition of the last slide\n",
    "        if index != (len(slideshow)-1):\n",
    "            leftTags = slide[\"tags\"]\n",
    "            rightTags = slideshow[index+1][\"tags\"]\n",
    "            same = 0\n",
    "            uniqLeft = 0\n",
    "            uniqRight = 0\n",
    "            \n",
    "            for tag in leftTags:\n",
    "                if tag in rightTags:\n",
    "                    same+=1\n",
    "                    rightTags.remove(tag)\n",
    "                else:\n",
    "                    uniqLeft+=1\n",
    "\n",
    "            # removed all the duplicate tags from right above\n",
    "            # so now rightTags contains only unique tags\n",
    "            uniqRight = len(rightTags)\n",
    "            \n",
    "            print(min(same, uniqLeft, uniqRight))\n",
    "            score+=min(same, uniqLeft, uniqRight)\n",
    "    return score\n",
    "\n",
    "print(slideshow)\n",
    "print(scoring(slideshow))"
   ]
  },
  {
   "cell_type": "markdown",
   "metadata": {},
   "source": [
    "Optimize the slides and their order to get a better score"
   ]
  },
  {
   "cell_type": "code",
   "execution_count": null,
   "metadata": {},
   "outputs": [],
   "source": [
    "# for vertical photos\n",
    "    # - combine photos with no tags in common (or least tags in common)\n",
    "# for slideshow\n",
    "    # - group all tags of 1 together (will have 0 score no matter what)\n",
    "    # - highest score - half of tags are similar, and half are unique\n",
    "\n",
    "# Optimizing combinging vertical photos\n",
    "\n",
    "# Optimizing by sorting slideshow with tags of 1 together\n",
    "                                                                                                                                                                                                                                                                                                                                                                                                                                                                                                                                                                                                                                                                                                                                                                                                                                                                                                                                                                                                                                                                                                                                                                                                                                                                                                                                                                                                                                                                                                                                                                                                                                                                                                                                                                                                                                                                                                                                                                                                                                                                                                                                                                                                                                                                                                                                                                                                                                                                                                                                                                                                                                                                                                                                                                                                                                                                                                                                                                                                                                                                                                                                                                                                                                                                                                                                                                                                                                                                                                                                                                                                                                                                                                                                                                                                                                                                                                                                                                                                                                                                                                                                                                                                                                                                                                                                                                                                                                                                                                                                                                                                                                                                                                                                                                                                                                                                                                                                                                                                                                                                                                                                                                                                                                                             "
   ]
  },
  {
   "cell_type": "markdown",
   "metadata": {},
   "source": [
    "Save the result"
   ]
  },
  {
   "cell_type": "code",
   "execution_count": 123,
   "metadata": {},
   "outputs": [],
   "source": [
    "def outputSlideshow(filename, slideshow):\n",
    "    with open(filename, \"w\") as output_file:\n",
    "        output_file.write(str(len(slideshow)) + \"\\n\")\n",
    "\n",
    "        for index, slide in enumerate(slideshow):\n",
    "            ids = slide['ids']\n",
    "            if len(ids) == 2:\n",
    "                output_file.write(\"{0} {1}\".format(ids[0], ids[1]))\n",
    "            else:\n",
    "                output_file.write(str(ids[0]))\n",
    "            output_file.write(\"\\n\")\n",
    "\n",
    "submission(\"test.txt\", slideshow)\n"
   ]
  },
  {
   "cell_type": "code",
   "execution_count": null,
   "metadata": {},
   "outputs": [],
   "source": []
  }
 ],
 "metadata": {
  "kernelspec": {
   "display_name": "Python 3",
   "language": "python",
   "name": "python3"
  },
  "language_info": {
   "codemirror_mode": {
    "name": "ipython",
    "version": 3
   },
   "file_extension": ".py",
   "mimetype": "text/x-python",
   "name": "python",
   "nbconvert_exporter": "python",
   "pygments_lexer": "ipython3",
   "version": "3.7.3"
  }
 },
 "nbformat": 4,
 "nbformat_minor": 2
}

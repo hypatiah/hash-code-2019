{
 "cells": [
  {
   "cell_type": "markdown",
   "metadata": {},
   "source": [
    "Hash Code 2019\n",
    "Python Week Wednesday\n",
    "\n",
    "Group 3:\n",
    "Emmanuel ADENIYI \n",
    "Danielle HASSID\n",
    "Chiranthan SHIVA KUMAR\n",
    "Behan Remoshan BENET RUBAN"
   ]
  },
  {
   "cell_type": "markdown",
   "metadata": {},
   "source": [
    "Read the input files"
   ]
  },
  {
   "cell_type": "code",
   "execution_count": 35,
   "metadata": {
    "scrolled": true
   },
   "outputs": [
    {
     "name": "stdout",
     "output_type": "stream",
     "text": [
      "[{'type': 'H', 'tagCount': 3, 'tags': ['cat', 'beach', 'sun']}, {'type': 'V', 'tagCount': 2, 'tags': ['selfie', 'smile']}, {'type': 'V', 'tagCount': 2, 'tags': ['garden', 'selfie']}, {'type': 'H', 'tagCount': 2, 'tags': ['garden', 'cat']}]\n"
     ]
    }
   ],
   "source": [
    "files = [\"a_example.txt\", \"b_lovely_landscapes.txt\",\n",
    "         \"c_memorable_moments.txt\", \"d_pet_pictures.txt\",\n",
    "         \"e_shiny_selfies.txt\"]\n",
    "\n",
    "\n",
    "f = open(files[0], \"r\")\n",
    "fl = f.readlines()\n",
    "\n",
    "# Create Photos from the data\n",
    "# Photo format\n",
    "# { type: \"H/V\", tagCount: 21, tags: [\"asdf\", \"sddsf\", \"sdfs\"] }\n",
    "photoCount = int(fl.pop(0))\n",
    "photos = []\n",
    "for x in fl:\n",
    "    info = x.split()\n",
    "    type = info.pop(0)\n",
    "    tagCount = int(info.pop(0))\n",
    "    tags = []\n",
    "    for i in info:\n",
    "        tags.append(i)\n",
    "    photo = { 'type': type, 'tagCount': tagCount, 'tags': tags}\n",
    "    photos.append(photo)\n",
    "\n",
    "print(photos)\n"
   ]
  },
  {
   "cell_type": "markdown",
   "metadata": {},
   "source": [
    "Create slides from the data"
   ]
  },
  {
   "cell_type": "code",
   "execution_count": null,
   "metadata": {},
   "outputs": [],
   "source": []
  },
  {
   "cell_type": "markdown",
   "metadata": {},
   "source": [
    "Create a slideshow from the slides"
   ]
  },
  {
   "cell_type": "code",
   "execution_count": null,
   "metadata": {},
   "outputs": [],
   "source": []
  },
  {
   "cell_type": "markdown",
   "metadata": {},
   "source": [
    "Scoring Function"
   ]
  },
  {
   "cell_type": "code",
   "execution_count": null,
   "metadata": {},
   "outputs": [],
   "source": []
  },
  {
   "cell_type": "markdown",
   "metadata": {},
   "source": [
    "Optimize the slides and their order to get a better score"
   ]
  },
  {
   "cell_type": "code",
   "execution_count": null,
   "metadata": {},
   "outputs": [],
   "source": []
  },
  {
   "cell_type": "markdown",
   "metadata": {},
   "source": [
    "Save the result"
   ]
  },
  {
   "cell_type": "code",
   "execution_count": null,
   "metadata": {},
   "outputs": [],
   "source": []
  }
 ],
 "metadata": {
  "kernelspec": {
   "display_name": "Python 3",
   "language": "python",
   "name": "python3"
  },
  "language_info": {
   "codemirror_mode": {
    "name": "ipython",
    "version": 3
   },
   "file_extension": ".py",
   "mimetype": "text/x-python",
   "name": "python",
   "nbconvert_exporter": "python",
   "pygments_lexer": "ipython3",
   "version": "3.7.3"
  }
 },
 "nbformat": 4,
 "nbformat_minor": 2
}

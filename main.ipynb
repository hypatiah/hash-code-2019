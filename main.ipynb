{
 "cells": [
  {
   "cell_type": "markdown",
   "metadata": {},
   "source": [
    "Hash Code 2019\n",
    "Python Week Wednesday\n",
    "\n",
    "Group 3:\n",
    "Emmanuel ADENIYI \n",
    "Danielle HASSID\n",
    "Chiranthan SHIVA KUMAR\n",
    "Behan Remoshan BENET RUBAN"
   ]
  },
  {
   "cell_type": "markdown",
   "metadata": {},
   "source": [
    "Read the input files"
   ]
  },
  {
   "cell_type": "code",
   "execution_count": 36,
   "metadata": {
    "scrolled": true
   },
   "outputs": [
    {
     "name": "stdout",
     "output_type": "stream",
     "text": [
      "[{'type': 'H', 'tagCount': 3, 'tags': ['cat', 'beach', 'sun']}, {'type': 'V', 'tagCount': 2, 'tags': ['selfie', 'smile']}, {'type': 'V', 'tagCount': 2, 'tags': ['garden', 'selfie']}, {'type': 'H', 'tagCount': 2, 'tags': ['garden', 'cat']}]\n"
     ]
    }
   ],
   "source": [
    "files = [\"a_example.txt\", \"b_lovely_landscapes.txt\",\n",
    "         \"c_memorable_moments.txt\", \"d_pet_pictures.txt\",\n",
    "         \"e_shiny_selfies.txt\"]\n",
    "\n",
    "\n",
    "f = open(files[0], \"r\")\n",
    "fl = f.readlines()\n",
    "\n",
    "# Create Photos from the data\n",
    "# Photo format\n",
    "# { type: \"H/V\", tagCount: 21, tags: [\"asdf\", \"sddsf\", \"sdfs\"] }\n",
    "photoCount = int(fl.pop(0))\n",
    "photos = []\n",
    "for x in fl:\n",
    "    info = x.split()\n",
    "    type = info.pop(0)\n",
    "    tagCount = int(info.pop(0))\n",
    "    tags = []\n",
    "    for i in info:\n",
    "        tags.append(i)\n",
    "    photo = { 'type': type, 'tagCount': tagCount, 'tags': tags}\n",
    "    photos.append(photo)\n",
    "\n",
    "print(photos)\n"
   ]
  },
  {
   "cell_type": "markdown",
   "metadata": {},
   "source": [
    "Create slides from the data"
   ]
  },
  {
   "cell_type": "code",
   "execution_count": 47,
   "metadata": {},
   "outputs": [
    {
     "name": "stdout",
     "output_type": "stream",
     "text": [
      "[{'type': 'H', 'tagCount': 3, 'tags': ['cat', 'beach', 'sun']}, {'type': 'V', 'tagCount': 3, 'tags': ['selfie', 'smile', 'garden']}, {'type': 'H', 'tagCount': 2, 'tags': ['garden', 'cat']}]\n"
     ]
    }
   ],
   "source": [
    "# slide format = { type: \"H/V\" tagCount: 21, tags: [\"asdf\", \"sddsf\", \"sdfs\"] }\n",
    "# Horizontal photos become slides unchanged\n",
    "# 2 vertical photos merge tags to become 1 vertical slide \n",
    "\n",
    "def photosToSlides(photos):\n",
    "    slides = []\n",
    "    vertMerg = []\n",
    "    for photo in photos:\n",
    "        # horizontal slide = horizontal photo unchanged \n",
    "        if photo['type'] == \"H\":\n",
    "            slides.append(photo)\n",
    "        # vertical slide = 2 vertical photos with tags merged\n",
    "        elif photo['type'] == \"V\":\n",
    "            vertMerg.append(photo)\n",
    "            # if there are 2 vertical photos in vertMerge - merge tags\n",
    "            # and create slide\n",
    "            if len(vertMerg) == 2:\n",
    "                # start with adding all tags from 1st vertical photo\n",
    "                allTags = vertMerg[0]['tags']\n",
    "                # add tags from 2nd vert photo if not already in 1st\n",
    "                for tag in vertMerg[1]['tags']:\n",
    "                    if tag not in allTags:\n",
    "                        allTags.append(tag)\n",
    "                slide = { \"type\": \"V\", \"tagCount\": len(allTags), \"tags\": allTags }\n",
    "                slides.append(slide)\n",
    "                vertMerg = [photo]\n",
    "    return slides\n",
    "\n",
    "print(photosToSlides(photos))\n"
   ]
  },
  {
   "cell_type": "markdown",
   "metadata": {},
   "source": [
    "Create a slideshow from the slides"
   ]
  },
  {
   "cell_type": "code",
   "execution_count": null,
   "metadata": {},
   "outputs": [],
   "source": [
    "# slideshow is an array of slides\n",
    "# slideshow format = [slide, slide, slide...]"
   ]
  },
  {
   "cell_type": "markdown",
   "metadata": {},
   "source": [
    "Scoring Function"
   ]
  },
  {
   "cell_type": "code",
   "execution_count": null,
   "metadata": {},
   "outputs": [],
   "source": [
    "# input= [{ type: \"H/V\" tagCount: 21, tags: [\"asdf\", \"sddsf\", \"sdfs\"] }, more slides...]"
   ]
  },
  {
   "cell_type": "markdown",
   "metadata": {},
   "source": [
    "Optimize the slides and their order to get a better score"
   ]
  },
  {
   "cell_type": "code",
   "execution_count": null,
   "metadata": {},
   "outputs": [],
   "source": []
  },
  {
   "cell_type": "markdown",
   "metadata": {},
   "source": [
    "Save the result"
   ]
  },
  {
   "cell_type": "code",
   "execution_count": null,
   "metadata": {},
   "outputs": [],
   "source": []
  }
 ],
 "metadata": {
  "kernelspec": {
   "display_name": "Python 3",
   "language": "python",
   "name": "python3"
  },
  "language_info": {
   "codemirror_mode": {
    "name": "ipython",
    "version": 3
   },
   "file_extension": ".py",
   "mimetype": "text/x-python",
   "name": "python",
   "nbconvert_exporter": "python",
   "pygments_lexer": "ipython3",
   "version": "3.7.3"
  }
 },
 "nbformat": 4,
 "nbformat_minor": 2
}
